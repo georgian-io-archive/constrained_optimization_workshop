{
  "nbformat": 4,
  "nbformat_minor": 0,
  "metadata": {
    "colab": {
      "name": "Constrained Optimization Workshop.ipynb",
      "provenance": [],
      "toc_visible": true,
      "authorship_tag": "ABX9TyPmrDDtwLaNt9vllo6kwvRu",
      "include_colab_link": true
    },
    "kernelspec": {
      "name": "python3",
      "display_name": "Python 3"
    },
    "language_info": {
      "name": "python"
    }
  },
  "cells": [
    {
      "cell_type": "markdown",
      "metadata": {
        "id": "view-in-github",
        "colab_type": "text"
      },
      "source": [
        "<a href=\"https://colab.research.google.com/github/georgian-io/constrained_optimization_workshop/blob/main/Constrained_Optimization_Workshop.ipynb\" target=\"_parent\"><img src=\"https://colab.research.google.com/assets/colab-badge.svg\" alt=\"Open In Colab\"/></a>"
      ]
    },
    {
      "cell_type": "markdown",
      "metadata": {
        "id": "F2PTp6GeTU_E"
      },
      "source": [
        "This notebook walks through solving a linear program and an integer program using Google OR-Tools.  \n",
        "https://developers.google.com/optimization/mip/integer_opt"
      ]
    },
    {
      "cell_type": "markdown",
      "metadata": {
        "id": "5E_diT_7ZGnB"
      },
      "source": [
        "First, let's install Google OR-Tools"
      ]
    },
    {
      "cell_type": "code",
      "metadata": {
        "id": "Pn0ky-OjDniS"
      },
      "source": [
        "import numpy as np\n",
        "import pandas as pd\n",
        "\n",
        "# Runtime must restart before the package can be properly imported\n",
        "try:\n",
        "  from ortools.linear_solver import pywraplp\n",
        "except (ImportError, KeyError, ModuleNotFoundError):\n",
        "  !python -m pip install --upgrade --user ortools\n",
        "  print('Stopping RUNTIME. Colaboratory will restart automatically. Please run again.')\n",
        "  exit()"
      ],
      "execution_count": 1,
      "outputs": []
    },
    {
      "cell_type": "markdown",
      "metadata": {
        "id": "sX7NWVvxJu2m"
      },
      "source": [
        "# The Diet Problem (Linear Version)\n",
        "Given a variety type of food (beef, chicken, etc.) and their respective costs, nutritional values, and min and max amounts. The problem is to find a diet that minimizes the total cost of the food while making sure we meet the minimum nutritional requirements and not exceeding the maximum nutrional requirements.  \n",
        "\n",
        "https://drive.google.com/uc?id=1F3uxwkl0TuDYp7yAGc2cxInALdJgUBlF\n",
        "\n"
      ]
    },
    {
      "cell_type": "markdown",
      "metadata": {
        "id": "22ZGpvTxigke"
      },
      "source": [
        "![Screen Shot 2021-03-31 at 12.22.05 AM.png](data:image/png;base64,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)"
      ]
    },
    {
      "cell_type": "markdown",
      "metadata": {
        "id": "feV1AEFQLX8S"
      },
      "source": [
        "## Data\n",
        "* FOOD_TB - Cost and min and max amount of each type of food\n",
        "* AMT_TB - The nutritional value for each type of food\n",
        "* NUT_TB - The min and max requirement for each type of nutriotional value"
      ]
    },
    {
      "cell_type": "code",
      "metadata": {
        "id": "MGp6pwp2JtLm"
      },
      "source": [
        "food_df = pd.read_csv('https://github.com/georgian-io/constrained_optimization_workshop/raw/main/FOOD_TB.csv', \n",
        "                      keep_default_na=False)\n",
        "amt_df = pd.read_csv('https://github.com/georgian-io/constrained_optimization_workshop/raw/main/AMT_TB.csv', \n",
        "                      keep_default_na=False)\n",
        "nut_df = pd.read_csv('https://github.com/georgian-io/constrained_optimization_workshop/raw/main/NUT_TB.csv', \n",
        "                      keep_default_na=False)"
      ],
      "execution_count": 2,
      "outputs": []
    },
    {
      "cell_type": "code",
      "metadata": {
        "colab": {
          "base_uri": "https://localhost:8080/",
          "height": 297
        },
        "id": "3etk-0cFMXj2",
        "outputId": "58d34f59-f2b6-4973-e925-b4086ed31c07"
      },
      "source": [
        "food_df"
      ],
      "execution_count": 3,
      "outputs": [
        {
          "output_type": "execute_result",
          "data": {
            "text/html": [
              "<div>\n",
              "<style scoped>\n",
              "    .dataframe tbody tr th:only-of-type {\n",
              "        vertical-align: middle;\n",
              "    }\n",
              "\n",
              "    .dataframe tbody tr th {\n",
              "        vertical-align: top;\n",
              "    }\n",
              "\n",
              "    .dataframe thead th {\n",
              "        text-align: right;\n",
              "    }\n",
              "</style>\n",
              "<table border=\"1\" class=\"dataframe\">\n",
              "  <thead>\n",
              "    <tr style=\"text-align: right;\">\n",
              "      <th></th>\n",
              "      <th>FOOD</th>\n",
              "      <th>cost</th>\n",
              "      <th>f_min</th>\n",
              "      <th>f_max</th>\n",
              "    </tr>\n",
              "  </thead>\n",
              "  <tbody>\n",
              "    <tr>\n",
              "      <th>0</th>\n",
              "      <td>BEEF</td>\n",
              "      <td>3.19</td>\n",
              "      <td>2</td>\n",
              "      <td>10</td>\n",
              "    </tr>\n",
              "    <tr>\n",
              "      <th>1</th>\n",
              "      <td>CHK</td>\n",
              "      <td>2.59</td>\n",
              "      <td>2</td>\n",
              "      <td>10</td>\n",
              "    </tr>\n",
              "    <tr>\n",
              "      <th>2</th>\n",
              "      <td>FISH</td>\n",
              "      <td>2.29</td>\n",
              "      <td>2</td>\n",
              "      <td>10</td>\n",
              "    </tr>\n",
              "    <tr>\n",
              "      <th>3</th>\n",
              "      <td>HAM</td>\n",
              "      <td>2.89</td>\n",
              "      <td>2</td>\n",
              "      <td>10</td>\n",
              "    </tr>\n",
              "    <tr>\n",
              "      <th>4</th>\n",
              "      <td>MCH</td>\n",
              "      <td>1.89</td>\n",
              "      <td>2</td>\n",
              "      <td>10</td>\n",
              "    </tr>\n",
              "    <tr>\n",
              "      <th>5</th>\n",
              "      <td>MTL</td>\n",
              "      <td>1.99</td>\n",
              "      <td>2</td>\n",
              "      <td>10</td>\n",
              "    </tr>\n",
              "    <tr>\n",
              "      <th>6</th>\n",
              "      <td>SPG</td>\n",
              "      <td>1.99</td>\n",
              "      <td>2</td>\n",
              "      <td>10</td>\n",
              "    </tr>\n",
              "    <tr>\n",
              "      <th>7</th>\n",
              "      <td>TUR</td>\n",
              "      <td>2.49</td>\n",
              "      <td>2</td>\n",
              "      <td>10</td>\n",
              "    </tr>\n",
              "  </tbody>\n",
              "</table>\n",
              "</div>"
            ],
            "text/plain": [
              "   FOOD  cost  f_min  f_max\n",
              "0  BEEF  3.19      2     10\n",
              "1   CHK  2.59      2     10\n",
              "2  FISH  2.29      2     10\n",
              "3   HAM  2.89      2     10\n",
              "4   MCH  1.89      2     10\n",
              "5   MTL  1.99      2     10\n",
              "6   SPG  1.99      2     10\n",
              "7   TUR  2.49      2     10"
            ]
          },
          "metadata": {
            "tags": []
          },
          "execution_count": 3
        }
      ]
    },
    {
      "cell_type": "code",
      "metadata": {
        "id": "a5Ww2uQpM4BS",
        "colab": {
          "base_uri": "https://localhost:8080/",
          "height": 1000
        },
        "outputId": "bce5b69f-80e3-4bd8-caf2-eac6cdd5af63"
      },
      "source": [
        "amt_df"
      ],
      "execution_count": 4,
      "outputs": [
        {
          "output_type": "execute_result",
          "data": {
            "text/html": [
              "<div>\n",
              "<style scoped>\n",
              "    .dataframe tbody tr th:only-of-type {\n",
              "        vertical-align: middle;\n",
              "    }\n",
              "\n",
              "    .dataframe tbody tr th {\n",
              "        vertical-align: top;\n",
              "    }\n",
              "\n",
              "    .dataframe thead th {\n",
              "        text-align: right;\n",
              "    }\n",
              "</style>\n",
              "<table border=\"1\" class=\"dataframe\">\n",
              "  <thead>\n",
              "    <tr style=\"text-align: right;\">\n",
              "      <th></th>\n",
              "      <th>FOOD</th>\n",
              "      <th>NUT</th>\n",
              "      <th>amt</th>\n",
              "    </tr>\n",
              "  </thead>\n",
              "  <tbody>\n",
              "    <tr>\n",
              "      <th>0</th>\n",
              "      <td>BEEF</td>\n",
              "      <td>A</td>\n",
              "      <td>60</td>\n",
              "    </tr>\n",
              "    <tr>\n",
              "      <th>1</th>\n",
              "      <td>BEEF</td>\n",
              "      <td>B1</td>\n",
              "      <td>20</td>\n",
              "    </tr>\n",
              "    <tr>\n",
              "      <th>2</th>\n",
              "      <td>BEEF</td>\n",
              "      <td>B2</td>\n",
              "      <td>10</td>\n",
              "    </tr>\n",
              "    <tr>\n",
              "      <th>3</th>\n",
              "      <td>BEEF</td>\n",
              "      <td>C</td>\n",
              "      <td>15</td>\n",
              "    </tr>\n",
              "    <tr>\n",
              "      <th>4</th>\n",
              "      <td>BEEF</td>\n",
              "      <td>CAL</td>\n",
              "      <td>938</td>\n",
              "    </tr>\n",
              "    <tr>\n",
              "      <th>5</th>\n",
              "      <td>BEEF</td>\n",
              "      <td>NA</td>\n",
              "      <td>295</td>\n",
              "    </tr>\n",
              "    <tr>\n",
              "      <th>6</th>\n",
              "      <td>CHK</td>\n",
              "      <td>A</td>\n",
              "      <td>8</td>\n",
              "    </tr>\n",
              "    <tr>\n",
              "      <th>7</th>\n",
              "      <td>CHK</td>\n",
              "      <td>B1</td>\n",
              "      <td>0</td>\n",
              "    </tr>\n",
              "    <tr>\n",
              "      <th>8</th>\n",
              "      <td>CHK</td>\n",
              "      <td>B2</td>\n",
              "      <td>20</td>\n",
              "    </tr>\n",
              "    <tr>\n",
              "      <th>9</th>\n",
              "      <td>CHK</td>\n",
              "      <td>C</td>\n",
              "      <td>20</td>\n",
              "    </tr>\n",
              "    <tr>\n",
              "      <th>10</th>\n",
              "      <td>CHK</td>\n",
              "      <td>CAL</td>\n",
              "      <td>2180</td>\n",
              "    </tr>\n",
              "    <tr>\n",
              "      <th>11</th>\n",
              "      <td>CHK</td>\n",
              "      <td>NA</td>\n",
              "      <td>770</td>\n",
              "    </tr>\n",
              "    <tr>\n",
              "      <th>12</th>\n",
              "      <td>FISH</td>\n",
              "      <td>A</td>\n",
              "      <td>8</td>\n",
              "    </tr>\n",
              "    <tr>\n",
              "      <th>13</th>\n",
              "      <td>FISH</td>\n",
              "      <td>B1</td>\n",
              "      <td>10</td>\n",
              "    </tr>\n",
              "    <tr>\n",
              "      <th>14</th>\n",
              "      <td>FISH</td>\n",
              "      <td>B2</td>\n",
              "      <td>15</td>\n",
              "    </tr>\n",
              "    <tr>\n",
              "      <th>15</th>\n",
              "      <td>FISH</td>\n",
              "      <td>C</td>\n",
              "      <td>10</td>\n",
              "    </tr>\n",
              "    <tr>\n",
              "      <th>16</th>\n",
              "      <td>FISH</td>\n",
              "      <td>CAL</td>\n",
              "      <td>945</td>\n",
              "    </tr>\n",
              "    <tr>\n",
              "      <th>17</th>\n",
              "      <td>FISH</td>\n",
              "      <td>NA</td>\n",
              "      <td>440</td>\n",
              "    </tr>\n",
              "    <tr>\n",
              "      <th>18</th>\n",
              "      <td>HAM</td>\n",
              "      <td>A</td>\n",
              "      <td>40</td>\n",
              "    </tr>\n",
              "    <tr>\n",
              "      <th>19</th>\n",
              "      <td>HAM</td>\n",
              "      <td>B1</td>\n",
              "      <td>40</td>\n",
              "    </tr>\n",
              "    <tr>\n",
              "      <th>20</th>\n",
              "      <td>HAM</td>\n",
              "      <td>B2</td>\n",
              "      <td>35</td>\n",
              "    </tr>\n",
              "    <tr>\n",
              "      <th>21</th>\n",
              "      <td>HAM</td>\n",
              "      <td>C</td>\n",
              "      <td>10</td>\n",
              "    </tr>\n",
              "    <tr>\n",
              "      <th>22</th>\n",
              "      <td>HAM</td>\n",
              "      <td>CAL</td>\n",
              "      <td>278</td>\n",
              "    </tr>\n",
              "    <tr>\n",
              "      <th>23</th>\n",
              "      <td>HAM</td>\n",
              "      <td>NA</td>\n",
              "      <td>430</td>\n",
              "    </tr>\n",
              "    <tr>\n",
              "      <th>24</th>\n",
              "      <td>MCH</td>\n",
              "      <td>A</td>\n",
              "      <td>15</td>\n",
              "    </tr>\n",
              "    <tr>\n",
              "      <th>25</th>\n",
              "      <td>MCH</td>\n",
              "      <td>B1</td>\n",
              "      <td>35</td>\n",
              "    </tr>\n",
              "    <tr>\n",
              "      <th>26</th>\n",
              "      <td>MCH</td>\n",
              "      <td>B2</td>\n",
              "      <td>15</td>\n",
              "    </tr>\n",
              "    <tr>\n",
              "      <th>27</th>\n",
              "      <td>MCH</td>\n",
              "      <td>C</td>\n",
              "      <td>15</td>\n",
              "    </tr>\n",
              "    <tr>\n",
              "      <th>28</th>\n",
              "      <td>MCH</td>\n",
              "      <td>CAL</td>\n",
              "      <td>1182</td>\n",
              "    </tr>\n",
              "    <tr>\n",
              "      <th>29</th>\n",
              "      <td>MCH</td>\n",
              "      <td>NA</td>\n",
              "      <td>315</td>\n",
              "    </tr>\n",
              "    <tr>\n",
              "      <th>30</th>\n",
              "      <td>MTL</td>\n",
              "      <td>A</td>\n",
              "      <td>70</td>\n",
              "    </tr>\n",
              "    <tr>\n",
              "      <th>31</th>\n",
              "      <td>MTL</td>\n",
              "      <td>B1</td>\n",
              "      <td>30</td>\n",
              "    </tr>\n",
              "    <tr>\n",
              "      <th>32</th>\n",
              "      <td>MTL</td>\n",
              "      <td>B2</td>\n",
              "      <td>15</td>\n",
              "    </tr>\n",
              "    <tr>\n",
              "      <th>33</th>\n",
              "      <td>MTL</td>\n",
              "      <td>C</td>\n",
              "      <td>15</td>\n",
              "    </tr>\n",
              "    <tr>\n",
              "      <th>34</th>\n",
              "      <td>MTL</td>\n",
              "      <td>CAL</td>\n",
              "      <td>896</td>\n",
              "    </tr>\n",
              "    <tr>\n",
              "      <th>35</th>\n",
              "      <td>MTL</td>\n",
              "      <td>NA</td>\n",
              "      <td>400</td>\n",
              "    </tr>\n",
              "    <tr>\n",
              "      <th>36</th>\n",
              "      <td>SPG</td>\n",
              "      <td>A</td>\n",
              "      <td>25</td>\n",
              "    </tr>\n",
              "    <tr>\n",
              "      <th>37</th>\n",
              "      <td>SPG</td>\n",
              "      <td>B1</td>\n",
              "      <td>50</td>\n",
              "    </tr>\n",
              "    <tr>\n",
              "      <th>38</th>\n",
              "      <td>SPG</td>\n",
              "      <td>B2</td>\n",
              "      <td>25</td>\n",
              "    </tr>\n",
              "    <tr>\n",
              "      <th>39</th>\n",
              "      <td>SPG</td>\n",
              "      <td>C</td>\n",
              "      <td>15</td>\n",
              "    </tr>\n",
              "    <tr>\n",
              "      <th>40</th>\n",
              "      <td>SPG</td>\n",
              "      <td>CAL</td>\n",
              "      <td>1329</td>\n",
              "    </tr>\n",
              "    <tr>\n",
              "      <th>41</th>\n",
              "      <td>SPG</td>\n",
              "      <td>NA</td>\n",
              "      <td>370</td>\n",
              "    </tr>\n",
              "    <tr>\n",
              "      <th>42</th>\n",
              "      <td>TUR</td>\n",
              "      <td>A</td>\n",
              "      <td>60</td>\n",
              "    </tr>\n",
              "    <tr>\n",
              "      <th>43</th>\n",
              "      <td>TUR</td>\n",
              "      <td>B1</td>\n",
              "      <td>20</td>\n",
              "    </tr>\n",
              "    <tr>\n",
              "      <th>44</th>\n",
              "      <td>TUR</td>\n",
              "      <td>B2</td>\n",
              "      <td>15</td>\n",
              "    </tr>\n",
              "    <tr>\n",
              "      <th>45</th>\n",
              "      <td>TUR</td>\n",
              "      <td>C</td>\n",
              "      <td>10</td>\n",
              "    </tr>\n",
              "    <tr>\n",
              "      <th>46</th>\n",
              "      <td>TUR</td>\n",
              "      <td>CAL</td>\n",
              "      <td>1397</td>\n",
              "    </tr>\n",
              "    <tr>\n",
              "      <th>47</th>\n",
              "      <td>TUR</td>\n",
              "      <td>NA</td>\n",
              "      <td>450</td>\n",
              "    </tr>\n",
              "  </tbody>\n",
              "</table>\n",
              "</div>"
            ],
            "text/plain": [
              "    FOOD  NUT   amt\n",
              "0   BEEF    A    60\n",
              "1   BEEF   B1    20\n",
              "2   BEEF   B2    10\n",
              "3   BEEF    C    15\n",
              "4   BEEF  CAL   938\n",
              "5   BEEF   NA   295\n",
              "6    CHK    A     8\n",
              "7    CHK   B1     0\n",
              "8    CHK   B2    20\n",
              "9    CHK    C    20\n",
              "10   CHK  CAL  2180\n",
              "11   CHK   NA   770\n",
              "12  FISH    A     8\n",
              "13  FISH   B1    10\n",
              "14  FISH   B2    15\n",
              "15  FISH    C    10\n",
              "16  FISH  CAL   945\n",
              "17  FISH   NA   440\n",
              "18   HAM    A    40\n",
              "19   HAM   B1    40\n",
              "20   HAM   B2    35\n",
              "21   HAM    C    10\n",
              "22   HAM  CAL   278\n",
              "23   HAM   NA   430\n",
              "24   MCH    A    15\n",
              "25   MCH   B1    35\n",
              "26   MCH   B2    15\n",
              "27   MCH    C    15\n",
              "28   MCH  CAL  1182\n",
              "29   MCH   NA   315\n",
              "30   MTL    A    70\n",
              "31   MTL   B1    30\n",
              "32   MTL   B2    15\n",
              "33   MTL    C    15\n",
              "34   MTL  CAL   896\n",
              "35   MTL   NA   400\n",
              "36   SPG    A    25\n",
              "37   SPG   B1    50\n",
              "38   SPG   B2    25\n",
              "39   SPG    C    15\n",
              "40   SPG  CAL  1329\n",
              "41   SPG   NA   370\n",
              "42   TUR    A    60\n",
              "43   TUR   B1    20\n",
              "44   TUR   B2    15\n",
              "45   TUR    C    10\n",
              "46   TUR  CAL  1397\n",
              "47   TUR   NA   450"
            ]
          },
          "metadata": {
            "tags": []
          },
          "execution_count": 4
        }
      ]
    },
    {
      "cell_type": "code",
      "metadata": {
        "colab": {
          "base_uri": "https://localhost:8080/",
          "height": 235
        },
        "id": "eyoxH703PWGw",
        "outputId": "93bfbf54-09de-45b3-d2f3-dfff337b1812"
      },
      "source": [
        "nut_df"
      ],
      "execution_count": 5,
      "outputs": [
        {
          "output_type": "execute_result",
          "data": {
            "text/html": [
              "<div>\n",
              "<style scoped>\n",
              "    .dataframe tbody tr th:only-of-type {\n",
              "        vertical-align: middle;\n",
              "    }\n",
              "\n",
              "    .dataframe tbody tr th {\n",
              "        vertical-align: top;\n",
              "    }\n",
              "\n",
              "    .dataframe thead th {\n",
              "        text-align: right;\n",
              "    }\n",
              "</style>\n",
              "<table border=\"1\" class=\"dataframe\">\n",
              "  <thead>\n",
              "    <tr style=\"text-align: right;\">\n",
              "      <th></th>\n",
              "      <th>NUT</th>\n",
              "      <th>n_min</th>\n",
              "      <th>n_max</th>\n",
              "    </tr>\n",
              "  </thead>\n",
              "  <tbody>\n",
              "    <tr>\n",
              "      <th>0</th>\n",
              "      <td>A</td>\n",
              "      <td>700</td>\n",
              "      <td>20000</td>\n",
              "    </tr>\n",
              "    <tr>\n",
              "      <th>1</th>\n",
              "      <td>B1</td>\n",
              "      <td>700</td>\n",
              "      <td>20000</td>\n",
              "    </tr>\n",
              "    <tr>\n",
              "      <th>2</th>\n",
              "      <td>B2</td>\n",
              "      <td>700</td>\n",
              "      <td>20000</td>\n",
              "    </tr>\n",
              "    <tr>\n",
              "      <th>3</th>\n",
              "      <td>C</td>\n",
              "      <td>700</td>\n",
              "      <td>20000</td>\n",
              "    </tr>\n",
              "    <tr>\n",
              "      <th>4</th>\n",
              "      <td>CAL</td>\n",
              "      <td>0</td>\n",
              "      <td>50000</td>\n",
              "    </tr>\n",
              "    <tr>\n",
              "      <th>5</th>\n",
              "      <td>NA</td>\n",
              "      <td>16000</td>\n",
              "      <td>24000</td>\n",
              "    </tr>\n",
              "  </tbody>\n",
              "</table>\n",
              "</div>"
            ],
            "text/plain": [
              "   NUT  n_min  n_max\n",
              "0    A    700  20000\n",
              "1   B1    700  20000\n",
              "2   B2    700  20000\n",
              "3    C    700  20000\n",
              "4  CAL      0  50000\n",
              "5   NA  16000  24000"
            ]
          },
          "metadata": {
            "tags": []
          },
          "execution_count": 5
        }
      ]
    },
    {
      "cell_type": "markdown",
      "metadata": {
        "id": "1vW6T3LBatbi"
      },
      "source": [
        "### Data processing"
      ]
    },
    {
      "cell_type": "code",
      "metadata": {
        "id": "yH6APB10PXnh"
      },
      "source": [
        "num_food = food_df.shape[0]\n",
        "num_nut = nut_df.shape[0]\n",
        "\n",
        "food_types = food_df['FOOD']\n",
        "nut_types = nut_df['NUT']\n",
        "\n",
        "food_cost = food_df.set_index(['FOOD'])['cost'].to_dict()\n",
        "food_min = food_df.set_index(['FOOD'])['f_min'].to_dict()\n",
        "food_max = food_df.set_index(['FOOD'])['f_max'].to_dict()\n",
        "nut_min = nut_df.set_index(['NUT'])['n_min'].to_dict()\n",
        "nut_max = nut_df.set_index(['NUT'])['n_max'].to_dict()\n",
        "\n",
        "nut_amt = amt_df.set_index(['FOOD', 'NUT'])['amt'].to_dict()"
      ],
      "execution_count": 7,
      "outputs": []
    },
    {
      "cell_type": "markdown",
      "metadata": {
        "id": "TXsIK5lSa1-T"
      },
      "source": [
        "## Solving the Linear Program"
      ]
    },
    {
      "cell_type": "markdown",
      "metadata": {
        "id": "c5Z2FC-fbFlw"
      },
      "source": [
        "### Define Solver"
      ]
    },
    {
      "cell_type": "code",
      "metadata": {
        "id": "-ichOFEQbIpv"
      },
      "source": [
        "linear_solver = pywraplp.Solver.CreateSolver('GLOP')"
      ],
      "execution_count": 6,
      "outputs": []
    },
    {
      "cell_type": "markdown",
      "metadata": {
        "id": "x5_RHdRSbPpp"
      },
      "source": [
        "### Variables\n",
        "\n",
        "x_i = amount of food type i in diet"
      ]
    },
    {
      "cell_type": "code",
      "metadata": {
        "id": "XS1dLWezbRlv"
      },
      "source": [
        "x = {}\n",
        "for i,food in enumerate(food_types):\n",
        "  x[food] = linear_solver.NumVar(food_min[food],food_max[food], (str(food)))"
      ],
      "execution_count": 9,
      "outputs": []
    },
    {
      "cell_type": "markdown",
      "metadata": {
        "id": "2cY5Mo05b0X8"
      },
      "source": [
        "### Constraints"
      ]
    },
    {
      "cell_type": "code",
      "metadata": {
        "id": "wJX725uLbzkq"
      },
      "source": [
        "# nutritional amount limit\n",
        "for nut in nut_types:\n",
        "  linear_solver.Add(linear_solver.Sum([x[food] * nut_amt[food,nut] for food in food_types]) >= nut_min[nut])\n",
        "  linear_solver.Add(linear_solver.Sum([x[food] * nut_amt[food,nut] for food in food_types]) <= nut_max[nut])"
      ],
      "execution_count": 11,
      "outputs": []
    },
    {
      "cell_type": "markdown",
      "metadata": {
        "id": "5BQX5Jf-cA8K"
      },
      "source": [
        "### Objective Function"
      ]
    },
    {
      "cell_type": "code",
      "metadata": {
        "id": "aCkfZVAEcClj"
      },
      "source": [
        "objective_terms = []\n",
        "for food in food_types:\n",
        "  objective_terms.append(x[food] * food_cost[food])"
      ],
      "execution_count": 12,
      "outputs": []
    },
    {
      "cell_type": "markdown",
      "metadata": {
        "id": "sHFSu7U8bBSG"
      },
      "source": [
        "## Solving the Integer Program\n",
        "\n",
        "5.3 units of beef might be hard to get, what if we restrain the variables to be integers?"
      ]
    },
    {
      "cell_type": "markdown",
      "metadata": {
        "id": "JUoM1iqERlbf"
      },
      "source": [
        "### Define Solver"
      ]
    },
    {
      "cell_type": "code",
      "metadata": {
        "id": "Ug_MAZgGRrAC"
      },
      "source": [
        "integer_solver = pywraplp.Solver.CreateSolver('SCIP')"
      ],
      "execution_count": 27,
      "outputs": []
    },
    {
      "cell_type": "markdown",
      "metadata": {
        "id": "z7QfMu9tPYd1"
      },
      "source": [
        "## Variables\n",
        "\n",
        "y_i = number of food type i in diet"
      ]
    },
    {
      "cell_type": "code",
      "metadata": {
        "id": "rqnjQDgTQKTn"
      },
      "source": [
        "y = {}\n",
        "for i,food in enumerate(food_types):\n",
        "  y[food] = integer_solver.IntVar(food_min[food],food_max[food], (str(food)))"
      ],
      "execution_count": 28,
      "outputs": []
    },
    {
      "cell_type": "markdown",
      "metadata": {
        "id": "gijGg9u3PsHo"
      },
      "source": [
        "## Constraints"
      ]
    },
    {
      "cell_type": "code",
      "metadata": {
        "id": "Xv5RAXraPtVn"
      },
      "source": [
        "# nutritional amount limit\n",
        "for nut in nut_types:\n",
        "  integer_solver.Add(integer_solver.Sum([y[food] * nut_amt[food,nut] for food in food_types]) >= nut_min[nut])\n",
        "  integer_solver.Add(integer_solver.Sum([y[food] * nut_amt[food,nut] for food in food_types]) <= nut_max[nut])"
      ],
      "execution_count": 29,
      "outputs": []
    },
    {
      "cell_type": "markdown",
      "metadata": {
        "id": "XTNJOWLqPt0e"
      },
      "source": [
        "## Objective Function"
      ]
    },
    {
      "cell_type": "code",
      "metadata": {
        "id": "sV0Ovn5vPv0h"
      },
      "source": [
        "integer_objective_terms = []\n",
        "for food in food_types:\n",
        "  integer_objective_terms.append(y[food] * food_cost[food])"
      ],
      "execution_count": 31,
      "outputs": []
    },
    {
      "cell_type": "markdown",
      "metadata": {
        "id": "rGepsCFHPwMt"
      },
      "source": [
        "## Solve"
      ]
    },
    {
      "cell_type": "code",
      "metadata": {
        "id": "05nJjRU4PxOn"
      },
      "source": [
        "integer_solver.Minimize(integer_solver.Sum(integer_objective_terms))\n",
        "status = integer_solver.Solve()"
      ],
      "execution_count": 32,
      "outputs": []
    },
    {
      "cell_type": "markdown",
      "metadata": {
        "id": "VgimqPnftYjv"
      },
      "source": [
        "## Print Solution"
      ]
    },
    {
      "cell_type": "code",
      "metadata": {
        "colab": {
          "base_uri": "https://localhost:8080/"
        },
        "id": "iY-7KdBYtX4R",
        "outputId": "fcc64f2a-47b3-4097-dfdf-9e4ca216bfb4"
      },
      "source": [
        "print('Total Cost: ' + str(integer_solver.Objective().Value()))\n",
        "print('\\nFood Amount\\t\\tmin\\tmax')\n",
        "for food in food_types:\n",
        "  print(food + ': ' + str(round(y[food].solution_value(), 4)) + \n",
        "        '\\t\\t' + str(food_min[food]) + \n",
        "        '\\t' + str(food_max[food]))\n",
        "\n",
        "print('\\nNutritional Values\\tmin\\tmax')\n",
        "for nut in nut_types:\n",
        "  print(nut + ': ' + str(round(sum([y[food].solution_value() * nut_amt[food,nut] for food in food_types]), 4)) +\n",
        "        '\\t\\t' + str(nut_min[nut]) + \n",
        "        '\\t' + str(nut_max[nut]))"
      ],
      "execution_count": 38,
      "outputs": [
        {
          "output_type": "stream",
          "text": [
            "Total Cost: 119.3\n",
            "\n",
            "Food Amount\t\tmin\tmax\n",
            "BEEF: 9.0\t\t2\t10\n",
            "CHK: 2.0\t\t2\t10\n",
            "FISH: 2.0\t\t2\t10\n",
            "HAM: 8.0\t\t2\t10\n",
            "MCH: 10.0\t\t2\t10\n",
            "MTL: 10.0\t\t2\t10\n",
            "SPG: 7.0\t\t2\t10\n",
            "TUR: 2.0\t\t2\t10\n",
            "\n",
            "Nutritional Values\tmin\tmax\n",
            "A: 2037.0\t\t700\t20000\n",
            "B1: 1560.0\t\t700\t20000\n",
            "B2: 945.0\t\t700\t20000\n",
            "C: 700.0\t\t700\t20000\n",
            "CAL: 49793.0\t\t0\t50000\n",
            "NA: 19155.0\t\t16000\t24000\n"
          ],
          "name": "stdout"
        }
      ]
    },
    {
      "cell_type": "code",
      "metadata": {
        "id": "UzIk5tb90NRP"
      },
      "source": [
        ""
      ],
      "execution_count": null,
      "outputs": []
    }
  ]
}