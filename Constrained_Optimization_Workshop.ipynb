{
  "nbformat": 4,
  "nbformat_minor": 0,
  "metadata": {
    "colab": {
      "name": "Constrained Optimization Workshop.ipynb",
      "provenance": [],
      "toc_visible": true,
      "authorship_tag": "ABX9TyM6kYdJVUBS7W+J1b7MLG7D",
      "include_colab_link": true
    },
    "kernelspec": {
      "name": "python3",
      "display_name": "Python 3"
    },
    "language_info": {
      "name": "python"
    }
  },
  "cells": [
    {
      "cell_type": "markdown",
      "metadata": {
        "id": "view-in-github",
        "colab_type": "text"
      },
      "source": [
        "<a href=\"https://colab.research.google.com/github/georgian-io/constrained_optimization_workshop/blob/main/Constrained_Optimization_Workshop.ipynb\" target=\"_parent\"><img src=\"https://colab.research.google.com/assets/colab-badge.svg\" alt=\"Open In Colab\"/></a>"
      ]
    },
    {
      "cell_type": "code",
      "metadata": {
        "colab": {
          "base_uri": "https://localhost:8080/"
        },
        "id": "vpLX9vKcDFrh",
        "outputId": "153fa175-935a-427f-e2dc-13229a144ea1"
      },
      "source": [
        "!python -m pip install --upgrade --user ortools"
      ],
      "execution_count": 1,
      "outputs": [
        {
          "output_type": "stream",
          "text": [
            "Requirement already up-to-date: ortools in /root/.local/lib/python3.7/site-packages (8.2.8710)\n",
            "Requirement already satisfied, skipping upgrade: protobuf>=3.14.0 in /root/.local/lib/python3.7/site-packages (from ortools) (3.15.6)\n",
            "Requirement already satisfied, skipping upgrade: absl-py>=0.11 in /root/.local/lib/python3.7/site-packages (from ortools) (0.12.0)\n",
            "Requirement already satisfied, skipping upgrade: six>=1.9 in /usr/local/lib/python3.7/dist-packages (from protobuf>=3.14.0->ortools) (1.15.0)\n"
          ],
          "name": "stdout"
        }
      ]
    },
    {
      "cell_type": "code",
      "metadata": {
        "id": "Pn0ky-OjDniS"
      },
      "source": [
        "import numpy as np\n",
        "import pandas as pd\n",
        "\n",
        "from ortools.linear_solver import pywraplp"
      ],
      "execution_count": 2,
      "outputs": []
    },
    {
      "cell_type": "markdown",
      "metadata": {
        "id": "sX7NWVvxJu2m"
      },
      "source": [
        "# Diet Problem\n",
        "Given a variety type of food, how to minimize cost while satisfying all the nutritional content.\n"
      ]
    },
    {
      "cell_type": "markdown",
      "metadata": {
        "id": "feV1AEFQLX8S"
      },
      "source": [
        "## Data\n",
        "* FOOD_TB - Cost and min and max amount of each type of food\n",
        "* AMT_TB - The nutritional value for each type of food\n",
        "* NUT_TB - The min and max requirement for each type of nutriotional value* "
      ]
    },
    {
      "cell_type": "code",
      "metadata": {
        "id": "MGp6pwp2JtLm"
      },
      "source": [
        "food_df = pd.read_csv('https://github.com/georgian-io/constrained_optimization_workshop/raw/main/FOOD_TB.csv', \n",
        "                      keep_default_na=False)\n",
        "amt_df = pd.read_csv('https://github.com/georgian-io/constrained_optimization_workshop/raw/main/AMT_TB.csv', \n",
        "                      keep_default_na=False)\n",
        "nut_df = pd.read_csv('https://github.com/georgian-io/constrained_optimization_workshop/raw/main/NUT_TB.csv', \n",
        "                      keep_default_na=False)"
      ],
      "execution_count": 34,
      "outputs": []
    },
    {
      "cell_type": "code",
      "metadata": {
        "colab": {
          "base_uri": "https://localhost:8080/",
          "height": 297
        },
        "id": "3etk-0cFMXj2",
        "outputId": "ecc531e1-12b1-403c-f290-8abb0372c74b"
      },
      "source": [
        "food_df"
      ],
      "execution_count": 4,
      "outputs": [
        {
          "output_type": "execute_result",
          "data": {
            "text/html": [
              "<div>\n",
              "<style scoped>\n",
              "    .dataframe tbody tr th:only-of-type {\n",
              "        vertical-align: middle;\n",
              "    }\n",
              "\n",
              "    .dataframe tbody tr th {\n",
              "        vertical-align: top;\n",
              "    }\n",
              "\n",
              "    .dataframe thead th {\n",
              "        text-align: right;\n",
              "    }\n",
              "</style>\n",
              "<table border=\"1\" class=\"dataframe\">\n",
              "  <thead>\n",
              "    <tr style=\"text-align: right;\">\n",
              "      <th></th>\n",
              "      <th>FOOD</th>\n",
              "      <th>cost</th>\n",
              "      <th>f_min</th>\n",
              "      <th>f_max</th>\n",
              "    </tr>\n",
              "  </thead>\n",
              "  <tbody>\n",
              "    <tr>\n",
              "      <th>0</th>\n",
              "      <td>BEEF</td>\n",
              "      <td>3.19</td>\n",
              "      <td>2</td>\n",
              "      <td>10</td>\n",
              "    </tr>\n",
              "    <tr>\n",
              "      <th>1</th>\n",
              "      <td>CHK</td>\n",
              "      <td>2.59</td>\n",
              "      <td>2</td>\n",
              "      <td>10</td>\n",
              "    </tr>\n",
              "    <tr>\n",
              "      <th>2</th>\n",
              "      <td>FISH</td>\n",
              "      <td>2.29</td>\n",
              "      <td>2</td>\n",
              "      <td>10</td>\n",
              "    </tr>\n",
              "    <tr>\n",
              "      <th>3</th>\n",
              "      <td>HAM</td>\n",
              "      <td>2.89</td>\n",
              "      <td>2</td>\n",
              "      <td>10</td>\n",
              "    </tr>\n",
              "    <tr>\n",
              "      <th>4</th>\n",
              "      <td>MCH</td>\n",
              "      <td>1.89</td>\n",
              "      <td>2</td>\n",
              "      <td>10</td>\n",
              "    </tr>\n",
              "    <tr>\n",
              "      <th>5</th>\n",
              "      <td>MTL</td>\n",
              "      <td>1.99</td>\n",
              "      <td>2</td>\n",
              "      <td>10</td>\n",
              "    </tr>\n",
              "    <tr>\n",
              "      <th>6</th>\n",
              "      <td>SPG</td>\n",
              "      <td>1.99</td>\n",
              "      <td>2</td>\n",
              "      <td>10</td>\n",
              "    </tr>\n",
              "    <tr>\n",
              "      <th>7</th>\n",
              "      <td>TUR</td>\n",
              "      <td>2.49</td>\n",
              "      <td>2</td>\n",
              "      <td>10</td>\n",
              "    </tr>\n",
              "  </tbody>\n",
              "</table>\n",
              "</div>"
            ],
            "text/plain": [
              "   FOOD  cost  f_min  f_max\n",
              "0  BEEF  3.19      2     10\n",
              "1   CHK  2.59      2     10\n",
              "2  FISH  2.29      2     10\n",
              "3   HAM  2.89      2     10\n",
              "4   MCH  1.89      2     10\n",
              "5   MTL  1.99      2     10\n",
              "6   SPG  1.99      2     10\n",
              "7   TUR  2.49      2     10"
            ]
          },
          "metadata": {
            "tags": []
          },
          "execution_count": 4
        }
      ]
    },
    {
      "cell_type": "code",
      "metadata": {
        "id": "a5Ww2uQpM4BS"
      },
      "source": [
        "amt_df"
      ],
      "execution_count": null,
      "outputs": []
    },
    {
      "cell_type": "code",
      "metadata": {
        "colab": {
          "base_uri": "https://localhost:8080/",
          "height": 235
        },
        "id": "eyoxH703PWGw",
        "outputId": "9287b237-1ba9-40f7-eac6-1cd3503619f5"
      },
      "source": [
        "nut_df"
      ],
      "execution_count": 35,
      "outputs": [
        {
          "output_type": "execute_result",
          "data": {
            "text/html": [
              "<div>\n",
              "<style scoped>\n",
              "    .dataframe tbody tr th:only-of-type {\n",
              "        vertical-align: middle;\n",
              "    }\n",
              "\n",
              "    .dataframe tbody tr th {\n",
              "        vertical-align: top;\n",
              "    }\n",
              "\n",
              "    .dataframe thead th {\n",
              "        text-align: right;\n",
              "    }\n",
              "</style>\n",
              "<table border=\"1\" class=\"dataframe\">\n",
              "  <thead>\n",
              "    <tr style=\"text-align: right;\">\n",
              "      <th></th>\n",
              "      <th>NUT</th>\n",
              "      <th>n_min</th>\n",
              "      <th>n_max</th>\n",
              "    </tr>\n",
              "  </thead>\n",
              "  <tbody>\n",
              "    <tr>\n",
              "      <th>0</th>\n",
              "      <td>A</td>\n",
              "      <td>700</td>\n",
              "      <td>20000</td>\n",
              "    </tr>\n",
              "    <tr>\n",
              "      <th>1</th>\n",
              "      <td>B1</td>\n",
              "      <td>700</td>\n",
              "      <td>20000</td>\n",
              "    </tr>\n",
              "    <tr>\n",
              "      <th>2</th>\n",
              "      <td>B2</td>\n",
              "      <td>700</td>\n",
              "      <td>20000</td>\n",
              "    </tr>\n",
              "    <tr>\n",
              "      <th>3</th>\n",
              "      <td>C</td>\n",
              "      <td>700</td>\n",
              "      <td>20000</td>\n",
              "    </tr>\n",
              "    <tr>\n",
              "      <th>4</th>\n",
              "      <td>CAL</td>\n",
              "      <td>0</td>\n",
              "      <td>50000</td>\n",
              "    </tr>\n",
              "    <tr>\n",
              "      <th>5</th>\n",
              "      <td>NA</td>\n",
              "      <td>16000</td>\n",
              "      <td>24000</td>\n",
              "    </tr>\n",
              "  </tbody>\n",
              "</table>\n",
              "</div>"
            ],
            "text/plain": [
              "   NUT  n_min  n_max\n",
              "0    A    700  20000\n",
              "1   B1    700  20000\n",
              "2   B2    700  20000\n",
              "3    C    700  20000\n",
              "4  CAL      0  50000\n",
              "5   NA  16000  24000"
            ]
          },
          "metadata": {
            "tags": []
          },
          "execution_count": 35
        }
      ]
    },
    {
      "cell_type": "code",
      "metadata": {
        "id": "yH6APB10PXnh"
      },
      "source": [
        "num_food = food_df.shape[0]\n",
        "num_nut = nut_df.shape[0]\n",
        "\n",
        "food_types = food_df['FOOD']\n",
        "nut_types = nut_df['NUT']\n",
        "\n",
        "food_cost = food_df.set_index(['FOOD'])['cost'].to_dict()\n",
        "food_min = food_df.set_index(['FOOD'])['f_min'].to_dict()\n",
        "food_max = food_df.set_index(['FOOD'])['f_max'].to_dict()\n",
        "nut_min = nut_df.set_index(['NUT'])['n_min'].to_dict()\n",
        "nut_max = nut_df.set_index(['NUT'])['n_max'].to_dict()\n",
        "\n",
        "nut_amt = amt_df.set_index(['FOOD', 'NUT'])['amt'].to_dict()"
      ],
      "execution_count": 41,
      "outputs": []
    },
    {
      "cell_type": "markdown",
      "metadata": {
        "id": "JUoM1iqERlbf"
      },
      "source": [
        "# Define Solver"
      ]
    },
    {
      "cell_type": "code",
      "metadata": {
        "id": "Ug_MAZgGRrAC"
      },
      "source": [
        "solver = pywraplp.Solver.CreateSolver('SCIP')"
      ],
      "execution_count": 59,
      "outputs": []
    },
    {
      "cell_type": "markdown",
      "metadata": {
        "id": "z7QfMu9tPYd1"
      },
      "source": [
        "## Variables\n",
        "\n",
        "x_i = number of food type i in diet"
      ]
    },
    {
      "cell_type": "code",
      "metadata": {
        "id": "rqnjQDgTQKTn"
      },
      "source": [
        "x = {}\n",
        "for i,food in enumerate(food_types):\n",
        "  x[food] = solver.IntVar(food_min[food],food_max[food], (str(food)))"
      ],
      "execution_count": 60,
      "outputs": []
    },
    {
      "cell_type": "markdown",
      "metadata": {
        "id": "gijGg9u3PsHo"
      },
      "source": [
        "## Constraints"
      ]
    },
    {
      "cell_type": "code",
      "metadata": {
        "id": "Xv5RAXraPtVn"
      },
      "source": [
        "# nutritional amount limit\n",
        "for nut in nut_types:\n",
        "  solver.Add(solver.Sum([x[food] * nut_amt[food,nut] for food in food_types]) >= nut_min[nut])\n",
        "  solver.Add(solver.Sum([x[food] * nut_amt[food,nut] for food in food_types]) <= nut_max[nut])\n"
      ],
      "execution_count": 61,
      "outputs": []
    },
    {
      "cell_type": "markdown",
      "metadata": {
        "id": "XTNJOWLqPt0e"
      },
      "source": [
        "## Objective Function"
      ]
    },
    {
      "cell_type": "code",
      "metadata": {
        "id": "sV0Ovn5vPv0h"
      },
      "source": [
        "objective_terms = []\n",
        "for food in food_types:\n",
        "  objective_terms.append(x[food] * food_cost[food])"
      ],
      "execution_count": 62,
      "outputs": []
    },
    {
      "cell_type": "markdown",
      "metadata": {
        "id": "rGepsCFHPwMt"
      },
      "source": [
        "## Solve"
      ]
    },
    {
      "cell_type": "code",
      "metadata": {
        "id": "05nJjRU4PxOn"
      },
      "source": [
        "solver.Minimize(solver.Sum(objective_terms))\n",
        "status = solver.Solve()"
      ],
      "execution_count": 63,
      "outputs": []
    },
    {
      "cell_type": "markdown",
      "metadata": {
        "id": "VgimqPnftYjv"
      },
      "source": [
        "## Print Solution"
      ]
    },
    {
      "cell_type": "code",
      "metadata": {
        "colab": {
          "base_uri": "https://localhost:8080/"
        },
        "id": "iY-7KdBYtX4R",
        "outputId": "89651ee1-478f-4810-e982-3c4059507752"
      },
      "source": [
        "print('Total Cost: ' + str(solver.Objective().Value()))\n",
        "print('\\nFood Amount: ')\n",
        "for food in food_types:\n",
        "  print(food + ': ' + str(int(x[food].solution_value())))\n",
        "\n",
        "print('\\nNutritional Values: ')\n",
        "for nut in nut_types:\n",
        "  print(nut + ': ' + str(int(sum([x[food].solution_value() * nut_amt[food,nut] for food in food_types]))))"
      ],
      "execution_count": 69,
      "outputs": [
        {
          "output_type": "stream",
          "text": [
            "Total Cost: 119.3\n",
            "\n",
            "Food Amount: \n",
            "BEEF: 9\n",
            "CHK: 2\n",
            "FISH: 2\n",
            "HAM: 8\n",
            "MCH: 10\n",
            "MTL: 10\n",
            "SPG: 7\n",
            "TUR: 2\n",
            "\n",
            "Nutritional Values: \n",
            "A: 2037\n",
            "B1: 1560\n",
            "B2: 945\n",
            "C: 700\n",
            "CAL: 49793\n",
            "NA: 19155\n"
          ],
          "name": "stdout"
        }
      ]
    },
    {
      "cell_type": "code",
      "metadata": {
        "id": "UzIk5tb90NRP"
      },
      "source": [
        ""
      ],
      "execution_count": null,
      "outputs": []
    }
  ]
}